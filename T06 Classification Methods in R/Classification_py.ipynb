{
 "cells": [
  {
   "cell_type": "markdown",
   "id": "00fd799c-f947-4552-8b8a-a175e731ab31",
   "metadata": {},
   "source": [
    "# Classification Methods\n",
    "\n",
    "+ TA: WANG Zhiwei, HKUST\n",
    "+ Date: 2023-10-17"
   ]
  },
  {
   "cell_type": "code",
   "execution_count": 1,
   "id": "0e396a30-8cfe-4ad8-8666-0e9c7d23ce71",
   "metadata": {},
   "outputs": [],
   "source": [
    "import random\n",
    "\n",
    "random.seed(20231017)"
   ]
  },
  {
   "cell_type": "markdown",
   "id": "3997a709-b98a-492a-8739-031c8a97a37c",
   "metadata": {},
   "source": [
    "In this tutorial, we will introduce four widely-used classification methods and how to use them in R programming language.\n",
    "\n",
    "+ Logistic regression\n",
    "+ LDA\n",
    "+ QDA\n",
    "+ KNN\n",
    "\n",
    "We will also introduce the receiver operating characteristic curve (ROC curve) to evaluate the performances of the methods.\n",
    "\n",
    "We use `Smarket` data from the `ISLP` library to demonstrate."
   ]
  },
  {
   "cell_type": "code",
   "execution_count": 2,
   "id": "f2a42f21-d033-4f2e-b445-b91132c7d210",
   "metadata": {},
   "outputs": [],
   "source": [
    "import numpy as np\n",
    "import pandas as pd\n",
    "from matplotlib.pyplot import subplots\n",
    "import statsmodels.api as sm\n",
    "from ISLP import load_data\n",
    "from ISLP.models import (ModelSpec as MS,summarize)\n",
    "from ISLP import confusion_table\n",
    "from ISLP.models import contrast\n",
    "from sklearn.discriminant_analysis import \\\n",
    "     (LinearDiscriminantAnalysis as LDA,\n",
    "      QuadraticDiscriminantAnalysis as QDA)\n",
    "from sklearn.naive_bayes import GaussianNB\n",
    "from sklearn.neighbors import KNeighborsClassifier\n",
    "from sklearn.preprocessing import StandardScaler\n",
    "from sklearn.model_selection import train_test_split\n",
    "from sklearn.linear_model import LogisticRegression"
   ]
  },
  {
   "cell_type": "code",
   "execution_count": 3,
   "id": "e3b9aa22-d8e9-4f01-a391-138343053871",
   "metadata": {},
   "outputs": [
    {
     "name": "stdout",
     "output_type": "stream",
     "text": [
      "(1250, 9)\n",
      "   Year   Lag1   Lag2   Lag3   Lag4   Lag5  Volume  Today Direction\n",
      "0  2001  0.381 -0.192 -2.624 -1.055  5.010  1.1913  0.959        Up\n",
      "1  2001  0.959  0.381 -0.192 -2.624 -1.055  1.2965  1.032        Up\n",
      "2  2001  1.032  0.959  0.381 -0.192 -2.624  1.4112 -0.623      Down\n",
      "3  2001 -0.623  1.032  0.959  0.381 -0.192  1.2760  0.614        Up\n",
      "4  2001  0.614 -0.623  1.032  0.959  0.381  1.2057  0.213        Up\n"
     ]
    }
   ],
   "source": [
    "Smarket = load_data('Smarket')\n",
    "# Get the dimensions of the DataFrame\n",
    "print(Smarket.shape)\n",
    "\n",
    "# Print the first few rows of the DataFrame\n",
    "print(Smarket.head())"
   ]
  },
  {
   "cell_type": "code",
   "execution_count": 4,
   "id": "ae31f705-40cd-404f-a17d-f8ab4d63e25f",
   "metadata": {},
   "outputs": [
    {
     "name": "stdout",
     "output_type": "stream",
     "text": [
      "              Year         Lag1         Lag2         Lag3         Lag4  \\\n",
      "count  1250.000000  1250.000000  1250.000000  1250.000000  1250.000000   \n",
      "mean   2003.016000     0.003834     0.003919     0.001716     0.001636   \n",
      "std       1.409018     1.136299     1.136280     1.138703     1.138774   \n",
      "min    2001.000000    -4.922000    -4.922000    -4.922000    -4.922000   \n",
      "25%    2002.000000    -0.639500    -0.639500    -0.640000    -0.640000   \n",
      "50%    2003.000000     0.039000     0.039000     0.038500     0.038500   \n",
      "75%    2004.000000     0.596750     0.596750     0.596750     0.596750   \n",
      "max    2005.000000     5.733000     5.733000     5.733000     5.733000   \n",
      "\n",
      "             Lag5       Volume        Today  \n",
      "count  1250.00000  1250.000000  1250.000000  \n",
      "mean      0.00561     1.478305     0.003138  \n",
      "std       1.14755     0.360357     1.136334  \n",
      "min      -4.92200     0.356070    -4.922000  \n",
      "25%      -0.64000     1.257400    -0.639500  \n",
      "50%       0.03850     1.422950     0.038500  \n",
      "75%       0.59700     1.641675     0.596750  \n",
      "max       5.73300     3.152470     5.733000  \n"
     ]
    }
   ],
   "source": [
    "# Print a summary of the DataFrame\n",
    "print(Smarket.describe())"
   ]
  },
  {
   "cell_type": "markdown",
   "id": "66799ed7-2cbb-414e-ac25-ac71ce301506",
   "metadata": {},
   "source": [
    "## Logistic regression\n",
    "\n",
    "Next, we will fit a logistic regression model in order to predict  `Direction` using  `Lag1` through `Lag5` and  `Volume`. The `sm.GLM()` function fits **generalized linear models**, a class of models that includes **logistic regression**. Alternatively, the function `sm.Logit()` fits a logistic regression model directly. The syntax of `sm.GLM()` is similar to that of `sm.OLS()`, except that we must pass in the argument `family=sm.families.Binomial()` in order to tell statsmodels to run a logistic regression rather than some other type of generalized linear model."
   ]
  },
  {
   "cell_type": "code",
   "execution_count": 5,
   "id": "c67e557c-84ef-43a8-b5d7-147775f7b4c3",
   "metadata": {},
   "outputs": [
    {
     "data": {
      "text/html": [
       "<div>\n",
       "<style scoped>\n",
       "    .dataframe tbody tr th:only-of-type {\n",
       "        vertical-align: middle;\n",
       "    }\n",
       "\n",
       "    .dataframe tbody tr th {\n",
       "        vertical-align: top;\n",
       "    }\n",
       "\n",
       "    .dataframe thead th {\n",
       "        text-align: right;\n",
       "    }\n",
       "</style>\n",
       "<table border=\"1\" class=\"dataframe\">\n",
       "  <thead>\n",
       "    <tr style=\"text-align: right;\">\n",
       "      <th></th>\n",
       "      <th>coef</th>\n",
       "      <th>std err</th>\n",
       "      <th>z</th>\n",
       "      <th>P&gt;|z|</th>\n",
       "    </tr>\n",
       "  </thead>\n",
       "  <tbody>\n",
       "    <tr>\n",
       "      <th>intercept</th>\n",
       "      <td>-0.1260</td>\n",
       "      <td>0.241</td>\n",
       "      <td>-0.523</td>\n",
       "      <td>0.601</td>\n",
       "    </tr>\n",
       "    <tr>\n",
       "      <th>Lag1</th>\n",
       "      <td>-0.0731</td>\n",
       "      <td>0.050</td>\n",
       "      <td>-1.457</td>\n",
       "      <td>0.145</td>\n",
       "    </tr>\n",
       "    <tr>\n",
       "      <th>Lag2</th>\n",
       "      <td>-0.0423</td>\n",
       "      <td>0.050</td>\n",
       "      <td>-0.845</td>\n",
       "      <td>0.398</td>\n",
       "    </tr>\n",
       "    <tr>\n",
       "      <th>Lag3</th>\n",
       "      <td>0.0111</td>\n",
       "      <td>0.050</td>\n",
       "      <td>0.222</td>\n",
       "      <td>0.824</td>\n",
       "    </tr>\n",
       "    <tr>\n",
       "      <th>Lag4</th>\n",
       "      <td>0.0094</td>\n",
       "      <td>0.050</td>\n",
       "      <td>0.187</td>\n",
       "      <td>0.851</td>\n",
       "    </tr>\n",
       "    <tr>\n",
       "      <th>Lag5</th>\n",
       "      <td>0.0103</td>\n",
       "      <td>0.050</td>\n",
       "      <td>0.208</td>\n",
       "      <td>0.835</td>\n",
       "    </tr>\n",
       "    <tr>\n",
       "      <th>Volume</th>\n",
       "      <td>0.1354</td>\n",
       "      <td>0.158</td>\n",
       "      <td>0.855</td>\n",
       "      <td>0.392</td>\n",
       "    </tr>\n",
       "  </tbody>\n",
       "</table>\n",
       "</div>"
      ],
      "text/plain": [
       "             coef  std err      z  P>|z|\n",
       "intercept -0.1260    0.241 -0.523  0.601\n",
       "Lag1      -0.0731    0.050 -1.457  0.145\n",
       "Lag2      -0.0423    0.050 -0.845  0.398\n",
       "Lag3       0.0111    0.050  0.222  0.824\n",
       "Lag4       0.0094    0.050  0.187  0.851\n",
       "Lag5       0.0103    0.050  0.208  0.835\n",
       "Volume     0.1354    0.158  0.855  0.392"
      ]
     },
     "execution_count": 5,
     "metadata": {},
     "output_type": "execute_result"
    }
   ],
   "source": [
    "allvars = Smarket.columns.drop(['Today', 'Direction', 'Year'])\n",
    "design = MS(allvars)\n",
    "X = design.fit_transform(Smarket)\n",
    "y = Smarket.Direction == 'Up'\n",
    "glm = sm.GLM(y,\n",
    "             X,\n",
    "             family=sm.families.Binomial())\n",
    "results = glm.fit()\n",
    "summarize(results)"
   ]
  },
  {
   "cell_type": "code",
   "execution_count": 6,
   "id": "446032ca-7e85-44ef-8d36-1371f8c72d21",
   "metadata": {},
   "outputs": [
    {
     "name": "stdout",
     "output_type": "stream",
     "text": [
      "intercept   -0.126000\n",
      "Lag1        -0.073074\n",
      "Lag2        -0.042301\n",
      "Lag3         0.011085\n",
      "Lag4         0.009359\n",
      "Lag5         0.010313\n",
      "Volume       0.135441\n",
      "dtype: float64\n"
     ]
    }
   ],
   "source": [
    "# Print the coefficients of the model\n",
    "print(results.params)"
   ]
  },
  {
   "cell_type": "markdown",
   "id": "c0e37689-9b81-4a51-a6fa-541a0b2047e5",
   "metadata": {},
   "source": [
    "+ The `predict()` function can be used to predict the probability that the market will go up, given values of the predictors."
   ]
  },
  {
   "cell_type": "code",
   "execution_count": 7,
   "id": "b889fe2f-6884-4dec-bc02-0d82628e0f03",
   "metadata": {},
   "outputs": [
    {
     "data": {
      "text/plain": [
       "array([0.50708413, 0.48146788, 0.48113883, 0.51522236, 0.51078116,\n",
       "       0.50695646, 0.49265087, 0.50922916, 0.51761353, 0.48883778])"
      ]
     },
     "execution_count": 7,
     "metadata": {},
     "output_type": "execute_result"
    }
   ],
   "source": [
    "probs = results.predict()\n",
    "probs[:10]"
   ]
  },
  {
   "cell_type": "markdown",
   "id": "a3597877-33f9-453e-a195-a0aa7d1939c7",
   "metadata": {},
   "source": [
    "+ The logit values, e.g. $log(\\frac{Pr(Y=1|X)}{Pr(Y=0|X)})$."
   ]
  },
  {
   "cell_type": "code",
   "execution_count": 8,
   "id": "4fc5e946-7908-43c2-9793-0a258c4c5d86",
   "metadata": {},
   "outputs": [
    {
     "data": {
      "text/plain": [
       "array([ 0.02833843, -0.07416246, -0.07548048,  0.06090825,  0.04313134,\n",
       "        0.02782764, -0.02939862,  0.03692083,  0.07048327, -0.0446563 ])"
      ]
     },
     "execution_count": 8,
     "metadata": {},
     "output_type": "execute_result"
    }
   ],
   "source": [
    "np.log(probs[:10] / (1 - probs[:10]))"
   ]
  },
  {
   "cell_type": "markdown",
   "id": "ad3bfd37-e70e-4943-9417-63bac5c38dea",
   "metadata": {},
   "source": [
    "+ We can check the prediction performance by producing a table and compute the accuracy."
   ]
  },
  {
   "cell_type": "code",
   "execution_count": 9,
   "id": "93fe4e38-d673-4365-8d61-b9309ded4be6",
   "metadata": {},
   "outputs": [
    {
     "name": "stdout",
     "output_type": "stream",
     "text": [
      "['Up', 'Down', 'Down', 'Up', 'Up', 'Up']\n"
     ]
    }
   ],
   "source": [
    "# Make predictions based on the probabilities\n",
    "glm_pred = ['Up' if p > 0.5 else 'Down' for p in probs]\n",
    "print(glm_pred[:6])"
   ]
  },
  {
   "cell_type": "code",
   "execution_count": 10,
   "id": "f3a118ed-ba59-4eff-afc9-b0cdc5c027d8",
   "metadata": {},
   "outputs": [
    {
     "data": {
      "text/plain": [
       "0      Up\n",
       "1      Up\n",
       "2    Down\n",
       "3      Up\n",
       "4      Up\n",
       "5      Up\n",
       "Name: Direction, dtype: object"
      ]
     },
     "execution_count": 10,
     "metadata": {},
     "output_type": "execute_result"
    }
   ],
   "source": [
    "# True value\n",
    "Smarket['Direction'][:6]"
   ]
  },
  {
   "cell_type": "code",
   "execution_count": 11,
   "id": "152a7a3e-12b6-4bba-bc82-0d1f657026e2",
   "metadata": {},
   "outputs": [
    {
     "data": {
      "text/html": [
       "<div>\n",
       "<style scoped>\n",
       "    .dataframe tbody tr th:only-of-type {\n",
       "        vertical-align: middle;\n",
       "    }\n",
       "\n",
       "    .dataframe tbody tr th {\n",
       "        vertical-align: top;\n",
       "    }\n",
       "\n",
       "    .dataframe thead th {\n",
       "        text-align: right;\n",
       "    }\n",
       "</style>\n",
       "<table border=\"1\" class=\"dataframe\">\n",
       "  <thead>\n",
       "    <tr style=\"text-align: right;\">\n",
       "      <th>Truth</th>\n",
       "      <th>Down</th>\n",
       "      <th>Up</th>\n",
       "    </tr>\n",
       "    <tr>\n",
       "      <th>Predicted</th>\n",
       "      <th></th>\n",
       "      <th></th>\n",
       "    </tr>\n",
       "  </thead>\n",
       "  <tbody>\n",
       "    <tr>\n",
       "      <th>Down</th>\n",
       "      <td>145</td>\n",
       "      <td>141</td>\n",
       "    </tr>\n",
       "    <tr>\n",
       "      <th>Up</th>\n",
       "      <td>457</td>\n",
       "      <td>507</td>\n",
       "    </tr>\n",
       "  </tbody>\n",
       "</table>\n",
       "</div>"
      ],
      "text/plain": [
       "Truth      Down   Up\n",
       "Predicted           \n",
       "Down        145  141\n",
       "Up          457  507"
      ]
     },
     "execution_count": 11,
     "metadata": {},
     "output_type": "execute_result"
    }
   ],
   "source": [
    "labels = np.array(['Down']*1250)\n",
    "labels[probs>0.5] = \"Up\"\n",
    "confusion_table(labels, Smarket.Direction)"
   ]
  },
  {
   "cell_type": "code",
   "execution_count": 12,
   "id": "89b511be-73ac-489d-82d0-c9ff1a0535d3",
   "metadata": {},
   "outputs": [
    {
     "data": {
      "text/plain": [
       "(0.5216, 0.5216)"
      ]
     },
     "execution_count": 12,
     "metadata": {},
     "output_type": "execute_result"
    }
   ],
   "source": [
    "(507+145)/1250, np.mean(labels == Smarket.Direction)"
   ]
  },
  {
   "cell_type": "markdown",
   "id": "5d614e0c-ecaa-4097-814a-68e5333daf0a",
   "metadata": {},
   "source": [
    "+ The accuracy only replects the performance under threshold 0.5. We can construct ROC curve to evaluate the general performance under various thresholding value."
   ]
  },
  {
   "cell_type": "code",
   "execution_count": 13,
   "id": "b9bde7ee-fd48-4841-b05a-ee4b56dad7c8",
   "metadata": {},
   "outputs": [
    {
     "data": {
      "image/png": "[encoded data removed]",
      "text/plain": [
       "<Figure size 640x480 with 1 Axes>"
      ]
     },
     "metadata": {},
     "output_type": "display_data"
    }
   ],
   "source": [
    "# Compute the ROC curve and AUC score\n",
    "from sklearn.metrics import roc_curve, roc_auc_score\n",
    "import matplotlib.pyplot as plt\n",
    "fpr, tpr, thresholds = roc_curve(y, probs)\n",
    "auc = roc_auc_score(y, probs)\n",
    "plt.plot(fpr, tpr, label='Logistic Regression (AUC = %0.2f)' % auc)\n",
    "plt.plot([0, 1], [0, 1], linestyle='--', label='Random Guessing')\n",
    "plt.xlabel('False Positive Rate')\n",
    "plt.ylabel('True Positive Rate')\n",
    "plt.title('ROC Curve')\n",
    "plt.legend()\n",
    "plt.show()"
   ]
  },
  {
   "cell_type": "markdown",
   "id": "3bba1925-ce46-4c4d-80c9-2cedff8677fa",
   "metadata": {},
   "source": [
    "+ At first glance, it looks a little bit better than random guess. But this result is evaluated on the training set.\n",
    "+ Intuitively, the test result will be worse due to the overfitting rpoblem.\n",
    "+ Let's fit the model using two independent datasets: fit the model using observations from 2001-2004; test the results using a held-out data of obserations from 2005."
   ]
  },
  {
   "cell_type": "code",
   "execution_count": 14,
   "id": "888954aa-5031-422b-9662-419a3ffde7a0",
   "metadata": {},
   "outputs": [],
   "source": [
    "# Split the data into training and test sets\n",
    "train = Smarket['Year'] < 2005\n",
    "test = Smarket['Year'] >= 2005\n",
    "\n",
    "Smarket['Direction_bin'] = Smarket['Direction'].map({'Up': 1, 'Down': 0})"
   ]
  },
  {
   "cell_type": "code",
   "execution_count": 15,
   "id": "35d1fbf4-d9e9-45f7-8838-4733e25bde31",
   "metadata": {},
   "outputs": [
    {
     "data": {
      "text/plain": [
       "252"
      ]
     },
     "execution_count": 15,
     "metadata": {},
     "output_type": "execute_result"
    }
   ],
   "source": [
    "Smarket.loc[test, ].shape[0]"
   ]
  },
  {
   "cell_type": "code",
   "execution_count": 16,
   "id": "49c6ddee-97a0-454a-a1d3-b8056b351764",
   "metadata": {},
   "outputs": [
    {
     "name": "stdout",
     "output_type": "stream",
     "text": [
      "Optimization terminated successfully.\n",
      "         Current function value: 0.691936\n",
      "         Iterations 4\n"
     ]
    }
   ],
   "source": [
    "# Fit the logistic regression model on the training set\n",
    "glm_fit = sm.Logit(Smarket.loc[train, 'Direction_bin'], sm.add_constant(Smarket.loc[train, ['Lag1', 'Lag2', 'Lag3', 'Lag4', 'Lag5', 'Volume']])).fit()\n",
    "\n",
    "# Predict the probabilities on the test set\n",
    "glm_probs = glm_fit.predict(sm.add_constant(Smarket.loc[test, ['Lag1', 'Lag2', 'Lag3', 'Lag4', 'Lag5', 'Volume']]), linear=False)\n",
    "\n",
    "# Make predictions based on the probabilities\n",
    "glm_pred = ['Up' if p > 0.5 else 'Down' for p in glm_probs]"
   ]
  },
  {
   "cell_type": "code",
   "execution_count": 17,
   "id": "bd10bab5-9e96-480b-abeb-f823d01ab44f",
   "metadata": {},
   "outputs": [
    {
     "data": {
      "text/html": [
       "<div>\n",
       "<style scoped>\n",
       "    .dataframe tbody tr th:only-of-type {\n",
       "        vertical-align: middle;\n",
       "    }\n",
       "\n",
       "    .dataframe tbody tr th {\n",
       "        vertical-align: top;\n",
       "    }\n",
       "\n",
       "    .dataframe thead th {\n",
       "        text-align: right;\n",
       "    }\n",
       "</style>\n",
       "<table border=\"1\" class=\"dataframe\">\n",
       "  <thead>\n",
       "    <tr style=\"text-align: right;\">\n",
       "      <th>Truth</th>\n",
       "      <th>Down</th>\n",
       "      <th>Up</th>\n",
       "    </tr>\n",
       "    <tr>\n",
       "      <th>Predicted</th>\n",
       "      <th></th>\n",
       "      <th></th>\n",
       "    </tr>\n",
       "  </thead>\n",
       "  <tbody>\n",
       "    <tr>\n",
       "      <th>Down</th>\n",
       "      <td>77</td>\n",
       "      <td>97</td>\n",
       "    </tr>\n",
       "    <tr>\n",
       "      <th>Up</th>\n",
       "      <td>34</td>\n",
       "      <td>44</td>\n",
       "    </tr>\n",
       "  </tbody>\n",
       "</table>\n",
       "</div>"
      ],
      "text/plain": [
       "Truth      Down  Up\n",
       "Predicted          \n",
       "Down         77  97\n",
       "Up           34  44"
      ]
     },
     "execution_count": 17,
     "metadata": {},
     "output_type": "execute_result"
    }
   ],
   "source": [
    "labels = np.array(['Down']*252)\n",
    "labels[glm_probs>0.5] = \"Up\"\n",
    "confusion_table(labels, Smarket.loc[test, 'Direction'])"
   ]
  },
  {
   "cell_type": "code",
   "execution_count": 18,
   "id": "f37074ae-6da0-4e2a-8913-e02c21c25485",
   "metadata": {},
   "outputs": [
    {
     "name": "stdout",
     "output_type": "stream",
     "text": [
      "The accuracy is now 0.4801587301587302 .\n",
      "\n"
     ]
    }
   ],
   "source": [
    "print(\"The accuracy is now\", np.mean(labels == Smarket.loc[test, 'Direction']), \".\\n\")"
   ]
  },
  {
   "cell_type": "code",
   "execution_count": 19,
   "id": "d6b53e8e-7553-4db7-92ad-da4089a7ac30",
   "metadata": {},
   "outputs": [
    {
     "data": {
      "image/png": "[encoded data removed]",
      "text/plain": [
       "<Figure size 640x480 with 1 Axes>"
      ]
     },
     "metadata": {},
     "output_type": "display_data"
    }
   ],
   "source": [
    "# Compute the ROC curve and AUC score\n",
    "fpr, tpr, thresholds = roc_curve(Smarket.loc[test, 'Direction_bin'], glm_probs)\n",
    "auc = roc_auc_score(Smarket.loc[test, 'Direction_bin'], glm_probs)\n",
    "plt.plot(fpr, tpr, label='Logistic Regression (AUC = %0.2f)' % auc)\n",
    "plt.plot([0, 1], [0, 1], linestyle='--', label='Random Guessing')\n",
    "plt.xlabel('False Positive Rate')\n",
    "plt.ylabel('True Positive Rate')\n",
    "plt.title('ROC Curve')\n",
    "plt.legend()\n",
    "plt.show()"
   ]
  },
  {
   "cell_type": "markdown",
   "id": "562d8728-cb04-473d-a982-5a66ae58cb69",
   "metadata": {},
   "source": [
    "- Now, the test error rate is $52\\%$, which is worse than random guessing!\n",
    "- Prediction AUC is $0.52$, slightly better than random guess but worse than training AUC (as expected).\n",
    "- We find descrepency between AUC and prediction accuracy, because the former accounts for the entire cutoff range."
   ]
  },
  {
   "cell_type": "markdown",
   "id": "eba786d4-6804-4a24-bde9-48ac8684a1cb",
   "metadata": {},
   "source": [
    "- Of course this result is not all that surprising, given that one would not generally expect to be able to use previous days’ returns to predict future market performance.\n",
    "- We recall that the logistic regression model had very underwhelming pvalues associated with all of the predictors, and that the smallest p-value, though not very small, corresponded to `Lag1`.\n",
    "- Perhaps by removing the variables that appear not to be helpful in predicting `Direction`, we can obtain a more effective model.\n",
    "- Below we have refit the logistic regression using just `Lag1` and `Lag2`, which seemed to have the highest predictive power in the original logistic regression model."
   ]
  },
  {
   "cell_type": "code",
   "execution_count": 20,
   "id": "3657405b-3f7a-4ae8-8447-ac0906539f21",
   "metadata": {},
   "outputs": [
    {
     "name": "stdout",
     "output_type": "stream",
     "text": [
      "Optimization terminated successfully.\n",
      "         Current function value: 0.692085\n",
      "         Iterations 3\n"
     ]
    }
   ],
   "source": [
    "# Fit the logistic regression model on the training set\n",
    "glm_fit = sm.Logit(Smarket.loc[train, 'Direction_bin'], sm.add_constant(Smarket.loc[train, ['Lag1', 'Lag2']])).fit()\n",
    "\n",
    "# Predict the probabilities on the test set\n",
    "glm_probs = glm_fit.predict(sm.add_constant(Smarket.loc[test, ['Lag1', 'Lag2']]), linear=False)\n",
    "\n",
    "# Make predictions based on the probabilities\n",
    "glm_pred = ['Up' if p > 0.5 else 'Down' for p in glm_probs]"
   ]
  },
  {
   "cell_type": "code",
   "execution_count": 21,
   "id": "ea5771a9-17b6-43e5-800c-acdcd01aa3c6",
   "metadata": {},
   "outputs": [
    {
     "data": {
      "text/html": [
       "<div>\n",
       "<style scoped>\n",
       "    .dataframe tbody tr th:only-of-type {\n",
       "        vertical-align: middle;\n",
       "    }\n",
       "\n",
       "    .dataframe tbody tr th {\n",
       "        vertical-align: top;\n",
       "    }\n",
       "\n",
       "    .dataframe thead th {\n",
       "        text-align: right;\n",
       "    }\n",
       "</style>\n",
       "<table border=\"1\" class=\"dataframe\">\n",
       "  <thead>\n",
       "    <tr style=\"text-align: right;\">\n",
       "      <th>Truth</th>\n",
       "      <th>Down</th>\n",
       "      <th>Up</th>\n",
       "    </tr>\n",
       "    <tr>\n",
       "      <th>Predicted</th>\n",
       "      <th></th>\n",
       "      <th></th>\n",
       "    </tr>\n",
       "  </thead>\n",
       "  <tbody>\n",
       "    <tr>\n",
       "      <th>Down</th>\n",
       "      <td>35</td>\n",
       "      <td>35</td>\n",
       "    </tr>\n",
       "    <tr>\n",
       "      <th>Up</th>\n",
       "      <td>76</td>\n",
       "      <td>106</td>\n",
       "    </tr>\n",
       "  </tbody>\n",
       "</table>\n",
       "</div>"
      ],
      "text/plain": [
       "Truth      Down   Up\n",
       "Predicted           \n",
       "Down         35   35\n",
       "Up           76  106"
      ]
     },
     "execution_count": 21,
     "metadata": {},
     "output_type": "execute_result"
    }
   ],
   "source": [
    "labels = np.array(['Down']*252)\n",
    "labels[glm_probs>0.5] = \"Up\"\n",
    "confusion_table(labels, Smarket.loc[test, 'Direction'])"
   ]
  },
  {
   "cell_type": "code",
   "execution_count": 22,
   "id": "9d209bcc-82e9-460c-8247-901826db1153",
   "metadata": {},
   "outputs": [
    {
     "name": "stdout",
     "output_type": "stream",
     "text": [
      "The accuracy is now 0.5595238095238095 .\n",
      "\n"
     ]
    }
   ],
   "source": [
    "print(\"The accuracy is now\", np.mean(labels == Smarket.loc[test, 'Direction']), \".\\n\")"
   ]
  },
  {
   "cell_type": "code",
   "execution_count": 23,
   "id": "e9482a2f-d999-47c2-86e7-5b3bd5669b60",
   "metadata": {},
   "outputs": [
    {
     "data": {
      "image/png": "[encoded data removed]",
      "text/plain": [
       "<Figure size 640x480 with 1 Axes>"
      ]
     },
     "metadata": {},
     "output_type": "display_data"
    }
   ],
   "source": [
    "# Compute the ROC curve and AUC score\n",
    "fpr, tpr, thresholds = roc_curve(Smarket.loc[test, 'Direction_bin'], glm_probs)\n",
    "auc = roc_auc_score(Smarket.loc[test, 'Direction_bin'], glm_probs)\n",
    "plt.plot(fpr, tpr, label='Logistic Regression (AUC = %0.2f)' % auc)\n",
    "plt.plot([0, 1], [0, 1], linestyle='--', label='Random Guessing')\n",
    "plt.xlabel('False Positive Rate')\n",
    "plt.ylabel('True Positive Rate')\n",
    "plt.title('ROC Curve')\n",
    "plt.legend()\n",
    "plt.show()"
   ]
  },
  {
   "cell_type": "markdown",
   "id": "00c7f16d-0b95-4dd9-a396-fbd36efe6a3c",
   "metadata": {},
   "source": [
    "## LDA\n",
    "We begin by performing LDA on the `Smarket` data, using the function `LinearDiscriminantAnalysis()`. We fit the model using only the observations before 2005."
   ]
  },
  {
   "cell_type": "code",
   "execution_count": 24,
   "id": "bc525a51-a33a-4292-9c3e-d71c90d496db",
   "metadata": {},
   "outputs": [
    {
     "name": "stdout",
     "output_type": "stream",
     "text": [
      "LinearDiscriminantAnalysis()\n"
     ]
    }
   ],
   "source": [
    "from sklearn.discriminant_analysis import LinearDiscriminantAnalysis\n",
    "\n",
    "# Linear Discriminant Analysis\n",
    "lda_fit = LinearDiscriminantAnalysis().fit(Smarket.loc[train, ['Lag1', 'Lag2']], Smarket.loc[train, 'Direction'])\n",
    "print(lda_fit)"
   ]
  },
  {
   "cell_type": "code",
   "execution_count": 25,
   "id": "aa9b12cb-eb2b-4ab3-8a56-b16d0d3cc527",
   "metadata": {},
   "outputs": [
    {
     "data": {
      "text/plain": [
       "array([[ 0.04279022,  0.03389409],\n",
       "       [-0.03954635, -0.03132544]])"
      ]
     },
     "execution_count": 25,
     "metadata": {},
     "output_type": "execute_result"
    }
   ],
   "source": [
    "lda_fit.means_"
   ]
  },
  {
   "cell_type": "code",
   "execution_count": 26,
   "id": "9bb4976b-186a-41d9-b6bd-58e46c48afa1",
   "metadata": {},
   "outputs": [
    {
     "data": {
      "text/plain": [
       "array([0.49198397, 0.50801603])"
      ]
     },
     "execution_count": 26,
     "metadata": {},
     "output_type": "execute_result"
    }
   ],
   "source": [
    "lda_fit.priors_"
   ]
  },
  {
   "cell_type": "code",
   "execution_count": 27,
   "id": "4960ef6e-fdee-4257-affc-09b7f4769226",
   "metadata": {},
   "outputs": [
    {
     "data": {
      "text/plain": [
       "array([[-0.64201904],\n",
       "       [-0.51352928]])"
      ]
     },
     "execution_count": 27,
     "metadata": {},
     "output_type": "execute_result"
    }
   ],
   "source": [
    "lda_fit.scalings_"
   ]
  },
  {
   "cell_type": "markdown",
   "id": "29cb215a-c0c6-44c0-8282-706f0dbbead2",
   "metadata": {},
   "source": [
    "- Prior probabilities: $\\pi_k$.\n",
    "- Group means: $\\mu_k$.\n",
    "- Coefficients: discrimination function $\\mu^T \\Sigma^{-1} x$ is linear on $x$."
   ]
  },
  {
   "cell_type": "code",
   "execution_count": 28,
   "id": "693aa301-310e-43ce-b141-635deaad1e5d",
   "metadata": {},
   "outputs": [
    {
     "data": {
      "text/plain": [
       "(0.5080160320641283, 0.49198396793587174)"
      ]
     },
     "execution_count": 28,
     "metadata": {},
     "output_type": "execute_result"
    }
   ],
   "source": [
    "sum(Smarket.loc[train, \"Direction\"] == \"Up\") / sum(train), sum(Smarket.loc[train, \"Direction\"] == \"Down\") / sum(train)"
   ]
  },
  {
   "cell_type": "markdown",
   "id": "8c3f3b4a-bde9-4fa3-b2bb-e84efc1e7422",
   "metadata": {},
   "source": [
    "- The LDA output indicates that $\\pi_1 = 0.492$ and $\\pi_2 = 0.508$; in other words, 49.2% of the training observations correspond to days during which the market went down. \n",
    "- It also provides the group means; these are the average of each predictor within each class, and are used by LDA as estimate of $\\mu_k$. \n",
    "- These suggest that there is a tendency for the previous 2 days returns to be negative on days when the market increases, and a tendency for the previous days’ returns to be positive on days when the market declines."
   ]
  },
  {
   "cell_type": "code",
   "execution_count": 29,
   "id": "9896f02b-cd62-4375-987c-8d1b7f0802f5",
   "metadata": {},
   "outputs": [],
   "source": [
    "# Make predictions on the test set\n",
    "lda_pred = lda_fit.predict(Smarket.loc[test, ['Lag1', 'Lag2']])\n",
    "lda_prob = lda_fit.predict_proba(Smarket.loc[test, ['Lag1', 'Lag2']])"
   ]
  },
  {
   "cell_type": "code",
   "execution_count": 30,
   "id": "931acb09-c413-4b9d-bc93-cdcccdf642c0",
   "metadata": {},
   "outputs": [
    {
     "data": {
      "text/html": [
       "<div>\n",
       "<style scoped>\n",
       "    .dataframe tbody tr th:only-of-type {\n",
       "        vertical-align: middle;\n",
       "    }\n",
       "\n",
       "    .dataframe tbody tr th {\n",
       "        vertical-align: top;\n",
       "    }\n",
       "\n",
       "    .dataframe thead th {\n",
       "        text-align: right;\n",
       "    }\n",
       "</style>\n",
       "<table border=\"1\" class=\"dataframe\">\n",
       "  <thead>\n",
       "    <tr style=\"text-align: right;\">\n",
       "      <th>Truth</th>\n",
       "      <th>Down</th>\n",
       "      <th>Up</th>\n",
       "    </tr>\n",
       "    <tr>\n",
       "      <th>Predicted</th>\n",
       "      <th></th>\n",
       "      <th></th>\n",
       "    </tr>\n",
       "  </thead>\n",
       "  <tbody>\n",
       "    <tr>\n",
       "      <th>Down</th>\n",
       "      <td>35</td>\n",
       "      <td>35</td>\n",
       "    </tr>\n",
       "    <tr>\n",
       "      <th>Up</th>\n",
       "      <td>76</td>\n",
       "      <td>106</td>\n",
       "    </tr>\n",
       "  </tbody>\n",
       "</table>\n",
       "</div>"
      ],
      "text/plain": [
       "Truth      Down   Up\n",
       "Predicted           \n",
       "Down         35   35\n",
       "Up           76  106"
      ]
     },
     "execution_count": 30,
     "metadata": {},
     "output_type": "execute_result"
    }
   ],
   "source": [
    "confusion_table(lda_pred, Smarket.loc[test, 'Direction'])"
   ]
  },
  {
   "cell_type": "code",
   "execution_count": 31,
   "id": "09c9d050-4c07-45ed-a343-18de8f07c361",
   "metadata": {},
   "outputs": [
    {
     "name": "stdout",
     "output_type": "stream",
     "text": [
      "The accuracy is now 0.5595238095238095 .\n",
      "\n"
     ]
    }
   ],
   "source": [
    "print(\"The accuracy is now\", np.mean(lda_pred == Smarket.loc[test, 'Direction']), \".\\n\")"
   ]
  },
  {
   "cell_type": "markdown",
   "id": "78f68919-90ff-4f77-8561-daeb1f69b58e",
   "metadata": {},
   "source": [
    "- The prediction performance is the same as logistic regression."
   ]
  },
  {
   "cell_type": "code",
   "execution_count": 33,
   "id": "3017ca04-d3fb-4685-813b-de459fb5dc52",
   "metadata": {},
   "outputs": [
    {
     "data": {
      "image/png": "[encoded data removed]",
      "text/plain": [
       "<Figure size 640x480 with 1 Axes>"
      ]
     },
     "metadata": {},
     "output_type": "display_data"
    }
   ],
   "source": [
    "# Compute the ROC curve and AUC score\n",
    "fpr, tpr, thresholds = roc_curve(Smarket.loc[test, 'Direction_bin'], lda_prob[:,1])\n",
    "auc = roc_auc_score(Smarket.loc[test, 'Direction_bin'], lda_prob[:,1])\n",
    "plt.plot(fpr, tpr, label='Logistic Regression (AUC = %0.2f)' % auc)\n",
    "plt.plot([0, 1], [0, 1], linestyle='--', label='Random Guessing')\n",
    "plt.xlabel('False Positive Rate')\n",
    "plt.ylabel('True Positive Rate')\n",
    "plt.title('ROC Curve')\n",
    "plt.legend()\n",
    "plt.show()"
   ]
  },
  {
   "cell_type": "markdown",
   "id": "5135dd48-6d18-4b73-a1bd-8988678cee75",
   "metadata": {},
   "source": [
    "## QDA\n",
    "We will now fit a QDA model to the `Smarket` data. QDA is implemented via `QuadraticDiscriminantAnalysis()` in the `sklearn` package, which we abbreviate to `QDA()`. The syntax is very similar to `LDA()`."
   ]
  },
  {
   "cell_type": "code",
   "execution_count": 34,
   "id": "2c708ff2-620e-4d49-821c-edffabad1eee",
   "metadata": {},
   "outputs": [
    {
     "name": "stdout",
     "output_type": "stream",
     "text": [
      "QuadraticDiscriminantAnalysis()\n"
     ]
    }
   ],
   "source": [
    "from sklearn.discriminant_analysis import QuadraticDiscriminantAnalysis\n",
    "\n",
    "# Quadratic Discriminant Analysis\n",
    "qda_fit = QuadraticDiscriminantAnalysis().fit(Smarket.loc[train, ['Lag1', 'Lag2']], Smarket.loc[train, 'Direction'])\n",
    "\n",
    "# Print the fitted model\n",
    "print(qda_fit)"
   ]
  },
  {
   "cell_type": "code",
   "execution_count": 35,
   "id": "0b4a298f-7878-4ee3-aae4-a3f8b06fff2b",
   "metadata": {},
   "outputs": [
    {
     "data": {
      "text/plain": [
       "(array([[ 0.04279022,  0.03389409],\n",
       "        [-0.03954635, -0.03132544]]),\n",
       " array([0.49198397, 0.50801603]))"
      ]
     },
     "execution_count": 35,
     "metadata": {},
     "output_type": "execute_result"
    }
   ],
   "source": [
    "qda_fit.means_, qda_fit.priors_"
   ]
  },
  {
   "cell_type": "code",
   "execution_count": 36,
   "id": "19585239-0dea-4491-8ebc-c2158d56cbd0",
   "metadata": {},
   "outputs": [],
   "source": [
    "# Make predictions on the test set\n",
    "qda_pred = qda_fit.predict(Smarket.loc[test, ['Lag1', 'Lag2']])\n",
    "qda_prob = qda_fit.predict_proba(Smarket.loc[test, ['Lag1', 'Lag2']])"
   ]
  },
  {
   "cell_type": "code",
   "execution_count": 37,
   "id": "07554757-933b-4871-b311-4b4d6f1063c2",
   "metadata": {},
   "outputs": [
    {
     "data": {
      "text/html": [
       "<div>\n",
       "<style scoped>\n",
       "    .dataframe tbody tr th:only-of-type {\n",
       "        vertical-align: middle;\n",
       "    }\n",
       "\n",
       "    .dataframe tbody tr th {\n",
       "        vertical-align: top;\n",
       "    }\n",
       "\n",
       "    .dataframe thead th {\n",
       "        text-align: right;\n",
       "    }\n",
       "</style>\n",
       "<table border=\"1\" class=\"dataframe\">\n",
       "  <thead>\n",
       "    <tr style=\"text-align: right;\">\n",
       "      <th>Truth</th>\n",
       "      <th>Down</th>\n",
       "      <th>Up</th>\n",
       "    </tr>\n",
       "    <tr>\n",
       "      <th>Predicted</th>\n",
       "      <th></th>\n",
       "      <th></th>\n",
       "    </tr>\n",
       "  </thead>\n",
       "  <tbody>\n",
       "    <tr>\n",
       "      <th>Down</th>\n",
       "      <td>30</td>\n",
       "      <td>20</td>\n",
       "    </tr>\n",
       "    <tr>\n",
       "      <th>Up</th>\n",
       "      <td>81</td>\n",
       "      <td>121</td>\n",
       "    </tr>\n",
       "  </tbody>\n",
       "</table>\n",
       "</div>"
      ],
      "text/plain": [
       "Truth      Down   Up\n",
       "Predicted           \n",
       "Down         30   20\n",
       "Up           81  121"
      ]
     },
     "execution_count": 37,
     "metadata": {},
     "output_type": "execute_result"
    }
   ],
   "source": [
    "confusion_table(qda_pred, Smarket.loc[test, 'Direction'])"
   ]
  },
  {
   "cell_type": "code",
   "execution_count": 39,
   "id": "04c3d9ee-6781-414d-8314-2942f2cf0bc7",
   "metadata": {},
   "outputs": [
    {
     "name": "stdout",
     "output_type": "stream",
     "text": [
      "The accuracy is now 0.5992063492063492 !\n",
      "\n"
     ]
    }
   ],
   "source": [
    "print(\"The accuracy is now\", np.mean(qda_pred == Smarket.loc[test, 'Direction']), \"!\\n\")"
   ]
  },
  {
   "cell_type": "code",
   "execution_count": 40,
   "id": "eb4aadc2-8339-4d37-9086-4a4ae9be021c",
   "metadata": {},
   "outputs": [
    {
     "data": {
      "image/png": "[encoded data removed]",
      "text/plain": [
       "<Figure size 640x480 with 1 Axes>"
      ]
     },
     "metadata": {},
     "output_type": "display_data"
    }
   ],
   "source": [
    "# Compute the ROC curve and AUC score\n",
    "fpr, tpr, thresholds = roc_curve(Smarket.loc[test, 'Direction_bin'], qda_prob[:,1])\n",
    "auc = roc_auc_score(Smarket.loc[test, 'Direction_bin'], qda_prob[:,1])\n",
    "plt.plot(fpr, tpr, label='Logistic Regression (AUC = %0.2f)' % auc)\n",
    "plt.plot([0, 1], [0, 1], linestyle='--', label='Random Guessing')\n",
    "plt.xlabel('False Positive Rate')\n",
    "plt.ylabel('True Positive Rate')\n",
    "plt.title('ROC Curve')\n",
    "plt.legend()\n",
    "plt.show()"
   ]
  },
  {
   "cell_type": "markdown",
   "id": "e8a7bafe-0d01-4eda-92ef-e130377b8d0b",
   "metadata": {},
   "source": [
    "Interestingly, the QDA predictions are accurate almost 60% of the time, even though the 2005 data was not used to fit the model. This level of accuracy is quite impressive for stock market data, which is known to be quite\n",
    "hard to model accurately.\n",
    "- This suggests that the quadratic form assumed by QDA may capture the true relationship more accurately than the linear forms assumed by LDA and logistic regression. \n",
    "- However, it would be better to evaluate this method’s performance on a larger test set before betting that this approach will consistently beat the market!"
   ]
  },
  {
   "cell_type": "markdown",
   "id": "7101019f-4d79-4361-becc-5f7470b2ac52",
   "metadata": {},
   "source": [
    "## K-Nearest Neighbors"
   ]
  },
  {
   "cell_type": "code",
   "execution_count": 41,
   "id": "23805a24-ddab-4ab6-8c3c-64eb65316128",
   "metadata": {},
   "outputs": [
    {
     "name": "stdout",
     "output_type": "stream",
     "text": [
      "Confusion Matrix:\n",
      "[[43 68]\n",
      " [58 83]]\n",
      "The prediction accuracy is 0.5\n"
     ]
    }
   ],
   "source": [
    "from sklearn.neighbors import KNeighborsClassifier\n",
    "from sklearn.metrics import confusion_matrix\n",
    "\n",
    "# K-Nearest Neighbors\n",
    "knn_fit = KNeighborsClassifier(n_neighbors=1).fit(Smarket.loc[train, ['Lag1', 'Lag2']], Smarket.loc[train, 'Direction'])\n",
    "\n",
    "# Make predictions on the test set\n",
    "knn_pred = knn_fit.predict(Smarket.loc[test, ['Lag1', 'Lag2']])\n",
    "\n",
    "# Compute the confusion matrix\n",
    "conf_mat = confusion_matrix(Smarket.loc[test, 'Direction'], knn_pred)\n",
    "\n",
    "# Print the confusion matrix and prediction accuracy\n",
    "print('Confusion Matrix:')\n",
    "print(conf_mat)\n",
    "print('The prediction accuracy is', knn_fit.score(Smarket.loc[test, ['Lag1', 'Lag2']], Smarket.loc[test, 'Direction']))"
   ]
  },
  {
   "cell_type": "markdown",
   "id": "55ca4470-23b4-45e7-a522-097c56b6e16f",
   "metadata": {},
   "source": [
    "# Exercise\n",
    "\n",
    "- Try to apply the KNN approach to the `Caravan` data set, which is part of the `ISLP` library. This data set includes 85 predictors that measure demographic characteristics for 5,822 individuals.\n",
    "\n",
    "- Use `Purchase` as response."
   ]
  },
  {
   "cell_type": "code",
   "execution_count": 42,
   "id": "96c7ee14-3f89-4685-b078-40e9590a82c3",
   "metadata": {},
   "outputs": [
    {
     "name": "stdout",
     "output_type": "stream",
     "text": [
      "(5822, 86)\n",
      "   MOSTYPE  MAANTHUI  MGEMOMV  MGEMLEEF  MOSHOOFD  MGODRK  MGODPR  MGODOV  \\\n",
      "0       33         1        3         2         8       0       5       1   \n",
      "1       37         1        2         2         8       1       4       1   \n",
      "2       37         1        2         2         8       0       4       2   \n",
      "3        9         1        3         3         3       2       3       2   \n",
      "4       40         1        4         2        10       1       4       1   \n",
      "\n",
      "   MGODGE  MRELGE  ...  APERSONG  AGEZONG  AWAOREG  ABRAND  AZEILPL  APLEZIER  \\\n",
      "0       3       7  ...         0        0        0       1        0         0   \n",
      "1       4       6  ...         0        0        0       1        0         0   \n",
      "2       4       3  ...         0        0        0       1        0         0   \n",
      "3       4       5  ...         0        0        0       1        0         0   \n",
      "4       4       7  ...         0        0        0       1        0         0   \n",
      "\n",
      "   AFIETS  AINBOED  ABYSTAND  Purchase  \n",
      "0       0        0         0        No  \n",
      "1       0        0         0        No  \n",
      "2       0        0         0        No  \n",
      "3       0        0         0        No  \n",
      "4       0        0         0        No  \n",
      "\n",
      "[5 rows x 86 columns]\n"
     ]
    }
   ],
   "source": [
    "Caravan = load_data('Caravan')\n",
    "# Get the dimensions of the DataFrame\n",
    "print(Caravan.shape)\n",
    "\n",
    "# Print the first few rows of the DataFrame\n",
    "print(Caravan.head())"
   ]
  },
  {
   "cell_type": "code",
   "execution_count": 43,
   "id": "55f0c687-77c7-43dd-9ff4-996f1206fca2",
   "metadata": {},
   "outputs": [
    {
     "name": "stdout",
     "output_type": "stream",
     "text": [
      "Variance of predictor 1: 165.0095001180681\n",
      "Variance of predictor 2: 0.16467949134763\n",
      "Variance of standardized predictor 1: 0.9998282377189971\n",
      "Variance of standardized predictor 2: 0.9998282377189966\n"
     ]
    },
    {
     "name": "stderr",
     "output_type": "stream",
     "text": [
      "Exception ignored on calling ctypes callback function: <function _ThreadpoolInfo._find_modules_with_dl_iterate_phdr.<locals>.match_module_callback at 0x7fadd3b03e50>\n",
      "Traceback (most recent call last):\n",
      "  File \"/home/huangxr/anaconda3/envs/dl/lib/python3.9/site-packages/threadpoolctl.py\", line 400, in match_module_callback\n",
      "    self._make_module_from_path(filepath)\n",
      "  File \"/home/huangxr/anaconda3/envs/dl/lib/python3.9/site-packages/threadpoolctl.py\", line 515, in _make_module_from_path\n",
      "    module = module_class(filepath, prefix, user_api, internal_api)\n",
      "  File \"/home/huangxr/anaconda3/envs/dl/lib/python3.9/site-packages/threadpoolctl.py\", line 606, in __init__\n",
      "    self.version = self.get_version()\n",
      "  File \"/home/huangxr/anaconda3/envs/dl/lib/python3.9/site-packages/threadpoolctl.py\", line 646, in get_version\n",
      "    config = get_config().split()\n",
      "AttributeError: 'NoneType' object has no attribute 'split'\n",
      "Exception ignored on calling ctypes callback function: <function _ThreadpoolInfo._find_modules_with_dl_iterate_phdr.<locals>.match_module_callback at 0x7fadd321caf0>\n",
      "Traceback (most recent call last):\n",
      "  File \"/home/huangxr/anaconda3/envs/dl/lib/python3.9/site-packages/threadpoolctl.py\", line 400, in match_module_callback\n",
      "    self._make_module_from_path(filepath)\n",
      "  File \"/home/huangxr/anaconda3/envs/dl/lib/python3.9/site-packages/threadpoolctl.py\", line 515, in _make_module_from_path\n",
      "    module = module_class(filepath, prefix, user_api, internal_api)\n",
      "  File \"/home/huangxr/anaconda3/envs/dl/lib/python3.9/site-packages/threadpoolctl.py\", line 606, in __init__\n",
      "    self.version = self.get_version()\n",
      "  File \"/home/huangxr/anaconda3/envs/dl/lib/python3.9/site-packages/threadpoolctl.py\", line 646, in get_version\n",
      "    config = get_config().split()\n",
      "AttributeError: 'NoneType' object has no attribute 'split'\n"
     ]
    },
    {
     "name": "stdout",
     "output_type": "stream",
     "text": [
      "Misclassification rate: 0.117\n",
      "Error rate: 0.059\n",
      "Confusion matrix (k = 1):\n",
      "Purchase   No  Yes\n",
      "row_0             \n",
      "No        874   50\n",
      "Yes        67    9\n",
      "Hit rate (k = 1): 0.15254237288135594\n"
     ]
    },
    {
     "name": "stderr",
     "output_type": "stream",
     "text": [
      "Exception ignored on calling ctypes callback function: <function _ThreadpoolInfo._find_modules_with_dl_iterate_phdr.<locals>.match_module_callback at 0x7fadd321ca60>\n",
      "Traceback (most recent call last):\n",
      "  File \"/home/huangxr/anaconda3/envs/dl/lib/python3.9/site-packages/threadpoolctl.py\", line 400, in match_module_callback\n",
      "    self._make_module_from_path(filepath)\n",
      "  File \"/home/huangxr/anaconda3/envs/dl/lib/python3.9/site-packages/threadpoolctl.py\", line 515, in _make_module_from_path\n",
      "    module = module_class(filepath, prefix, user_api, internal_api)\n",
      "  File \"/home/huangxr/anaconda3/envs/dl/lib/python3.9/site-packages/threadpoolctl.py\", line 606, in __init__\n",
      "    self.version = self.get_version()\n",
      "  File \"/home/huangxr/anaconda3/envs/dl/lib/python3.9/site-packages/threadpoolctl.py\", line 646, in get_version\n",
      "    config = get_config().split()\n",
      "AttributeError: 'NoneType' object has no attribute 'split'\n"
     ]
    },
    {
     "name": "stdout",
     "output_type": "stream",
     "text": [
      "Confusion matrix (k = 3):\n",
      "Purchase   No  Yes\n",
      "row_0             \n",
      "No        920   56\n",
      "Yes        21    3\n",
      "Hit rate (k = 3): 0.05084745762711865\n",
      "Confusion matrix (k = 5):\n",
      "Purchase   No  Yes\n",
      "row_0             \n",
      "No        938   59\n",
      "Yes         3    0\n",
      "Hit rate (k = 5): 0.0\n"
     ]
    }
   ],
   "source": [
    "# Standardize the predictors\n",
    "standardized_X = (Caravan.iloc[:, :-1] - Caravan.iloc[:, :-1].mean()) / Caravan.iloc[:, :-1].std()\n",
    "\n",
    "# Compute the variances of the first two predictors\n",
    "print('Variance of predictor 1:', np.var(Caravan.iloc[:, 0]))\n",
    "print('Variance of predictor 2:', np.var(Caravan.iloc[:, 1]))\n",
    "print('Variance of standardized predictor 1:', np.var(standardized_X.iloc[:, 0]))\n",
    "print('Variance of standardized predictor 2:', np.var(standardized_X.iloc[:, 1]))\n",
    "\n",
    "# Split the data into training and test sets\n",
    "test = np.arange(1000)\n",
    "train_X = standardized_X.iloc[~test, :]\n",
    "test_X = standardized_X.iloc[test, :]\n",
    "train_Y = Caravan.iloc[~test, -1]\n",
    "test_Y = Caravan.iloc[test, -1]\n",
    "\n",
    "# K-Nearest Neighbors\n",
    "knn_fit = KNeighborsClassifier(n_neighbors=1).fit(train_X, train_Y)\n",
    "\n",
    "# Compute the misclassification rate\n",
    "knn_pred = knn_fit.predict(test_X)\n",
    "print('Misclassification rate:', np.mean(test_Y != knn_pred))\n",
    "\n",
    "# Compute the error rate using the \"No\" class as the baseline\n",
    "print('Error rate:', np.mean(test_Y != 'No'))\n",
    "\n",
    "# Compute the confusion matrix and hit rate for k = 1\n",
    "conf_mat = pd.crosstab(knn_pred, test_Y)\n",
    "hit_rate = conf_mat.loc['Yes', 'Yes'] / (conf_mat.loc['Yes', 'Yes'] + conf_mat.loc['No', 'Yes'])\n",
    "print('Confusion matrix (k = 1):')\n",
    "print(conf_mat)\n",
    "print('Hit rate (k = 1):', hit_rate)\n",
    "\n",
    "# Repeat for k = 3\n",
    "knn_fit = KNeighborsClassifier(n_neighbors=3).fit(train_X, train_Y)\n",
    "knn_pred = knn_fit.predict(test_X)\n",
    "conf_mat = pd.crosstab(knn_pred, test_Y)\n",
    "hit_rate = conf_mat.loc['Yes', 'Yes'] / (conf_mat.loc['Yes', 'Yes'] + conf_mat.loc['No', 'Yes'])\n",
    "print('Confusion matrix (k = 3):')\n",
    "print(conf_mat)\n",
    "print('Hit rate (k = 3):', hit_rate)\n",
    "\n",
    "# Repeat for k = 5\n",
    "knn_fit = KNeighborsClassifier(n_neighbors=5).fit(train_X, train_Y)\n",
    "knn_pred = knn_fit.predict(test_X)\n",
    "conf_mat = pd.crosstab(knn_pred, test_Y)\n",
    "hit_rate = conf_mat.loc['Yes', 'Yes'] / (conf_mat.loc['Yes', 'Yes'] + conf_mat.loc['No', 'Yes'])\n",
    "print('Confusion matrix (k = 5):')\n",
    "print(conf_mat)\n",
    "print('Hit rate (k = 5):', hit_rate)\n"
   ]
  },
  {
   "cell_type": "code",
   "execution_count": null,
   "id": "6790c199-1c98-41d2-92ba-5f1285195c0e",
   "metadata": {},
   "outputs": [],
   "source": []
  }
 ],
 "metadata": {
  "kernelspec": {
   "display_name": "Python 3 (ipykernel)",
   "language": "python",
   "name": "python3"
  },
  "language_info": {
   "codemirror_mode": {
    "name": "ipython",
    "version": 3
   },
   "file_extension": ".py",
   "mimetype": "text/x-python",
   "name": "python",
   "nbconvert_exporter": "python",
   "pygments_lexer": "ipython3",
   "version": "3.9.7"
  }
 },
 "nbformat": 4,
 "nbformat_minor": 5
}
